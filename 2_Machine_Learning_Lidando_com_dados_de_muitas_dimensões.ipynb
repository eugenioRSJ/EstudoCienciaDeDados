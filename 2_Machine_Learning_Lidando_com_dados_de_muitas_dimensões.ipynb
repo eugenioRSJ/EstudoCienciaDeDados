{
  "nbformat": 4,
  "nbformat_minor": 0,
  "metadata": {
    "colab": {
      "name": "2.Machine Learning: Lidando com dados de muitas dimensões",
      "provenance": [],
      "collapsed_sections": [],
      "authorship_tag": "ABX9TyM2BJLuSYoOAWmo7YOB2i4l",
      "include_colab_link": true
    },
    "kernelspec": {
      "name": "python3",
      "display_name": "Python 3"
    },
    "language_info": {
      "name": "python"
    }
  },
  "cells": [
    {
      "cell_type": "markdown",
      "metadata": {
        "id": "view-in-github",
        "colab_type": "text"
      },
      "source": [
        "<a href=\"https://colab.research.google.com/github/eugenioRSJ/EstudoCienciaDeDados/blob/main/2_Machine_Learning_Lidando_com_dados_de_muitas_dimens%C3%B5es.ipynb\" target=\"_parent\"><img src=\"https://colab.research.google.com/assets/colab-badge.svg\" alt=\"Open In Colab\"/></a>"
      ]
    },
    {
      "cell_type": "markdown",
      "metadata": {
        "id": "LRuvE-BhCMp4"
      },
      "source": [
        "#Ciclo do macine leraning\n",
        "Entrada de dados -> Pré-Processamento e Tranformação dos dados -> Separação de dados de treino e teste -> Treinamento e contrução do modelo -> Teste e validação do modelo -> Implementação do modelo"
      ]
    },
    {
      "cell_type": "code",
      "metadata": {
        "id": "_n1wnU_kB7iz"
      },
      "source": [
        "import pandas as pd\n",
        "pd.read_csv()"
      ],
      "execution_count": 1,
      "outputs": []
    },
    {
      "cell_type": "code",
      "metadata": {
        "id": "IWPBrJKGHStF"
      },
      "source": [
        ""
      ],
      "execution_count": null,
      "outputs": []
    }
  ]
}